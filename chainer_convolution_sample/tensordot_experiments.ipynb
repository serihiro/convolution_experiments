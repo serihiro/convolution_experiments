{
 "cells": [
  {
   "cell_type": "code",
   "execution_count": 40,
   "metadata": {},
   "outputs": [],
   "source": [
    "import numpy as np"
   ]
  },
  {
   "cell_type": "markdown",
   "metadata": {},
   "source": [
    "$$\n",
    "a = \\begin{bmatrix}\n",
    "1 &2 \\\\\n",
    "3 &4\n",
    "\\end{bmatrix}\n",
    "$$\n",
    "\n",
    "$$\n",
    "b = \\begin{bmatrix}\n",
    "5 &6 \\\\\n",
    "7 &8\n",
    "\\end{bmatrix}\n",
    "$$\n",
    "\n",
    "$$\n",
    "\\begin{split}\n",
    "y& = a \\cdot b \\\\\n",
    "&=  \\begin{bmatrix}\n",
    "19 &22 \\\\\n",
    " 43 &50\n",
    "\\end{bmatrix}\n",
    "\\end{split}\n",
    "$$\n"
   ]
  },
  {
   "cell_type": "code",
   "execution_count": 41,
   "metadata": {},
   "outputs": [],
   "source": [
    "a = np.arange(1,5).reshape(2,2)\n",
    "b = np.arange(5,9).reshape(2,2)"
   ]
  },
  {
   "cell_type": "code",
   "execution_count": 42,
   "metadata": {},
   "outputs": [
    {
     "data": {
      "text/plain": [
       "array([[1, 2],\n",
       "       [3, 4]])"
      ]
     },
     "execution_count": 42,
     "metadata": {},
     "output_type": "execute_result"
    }
   ],
   "source": [
    "a"
   ]
  },
  {
   "cell_type": "code",
   "execution_count": 43,
   "metadata": {},
   "outputs": [
    {
     "data": {
      "text/plain": [
       "array([[5, 6],\n",
       "       [7, 8]])"
      ]
     },
     "execution_count": 43,
     "metadata": {},
     "output_type": "execute_result"
    }
   ],
   "source": [
    "b"
   ]
  },
  {
   "cell_type": "code",
   "execution_count": 44,
   "metadata": {},
   "outputs": [
    {
     "data": {
      "text/plain": [
       "array(70)"
      ]
     },
     "execution_count": 44,
     "metadata": {},
     "output_type": "execute_result"
    }
   ],
   "source": [
    "np.tensordot(a, b)"
   ]
  },
  {
   "cell_type": "code",
   "execution_count": 45,
   "metadata": {
    "scrolled": false
   },
   "outputs": [
    {
     "data": {
      "text/plain": [
       "array([[[[ 5,  6],\n",
       "         [ 7,  8]],\n",
       "\n",
       "        [[10, 12],\n",
       "         [14, 16]]],\n",
       "\n",
       "\n",
       "       [[[15, 18],\n",
       "         [21, 24]],\n",
       "\n",
       "        [[20, 24],\n",
       "         [28, 32]]]])"
      ]
     },
     "execution_count": 45,
     "metadata": {},
     "output_type": "execute_result"
    }
   ],
   "source": [
    "np.tensordot(a, b, axes=0)"
   ]
  },
  {
   "cell_type": "code",
   "execution_count": 46,
   "metadata": {},
   "outputs": [
    {
     "data": {
      "text/plain": [
       "array([[19, 22],\n",
       "       [43, 50]])"
      ]
     },
     "execution_count": 46,
     "metadata": {},
     "output_type": "execute_result"
    }
   ],
   "source": [
    "np.tensordot(a, b, axes=1)"
   ]
  },
  {
   "cell_type": "code",
   "execution_count": 47,
   "metadata": {},
   "outputs": [
    {
     "data": {
      "text/plain": [
       "array(70)"
      ]
     },
     "execution_count": 47,
     "metadata": {},
     "output_type": "execute_result"
    }
   ],
   "source": [
    "np.tensordot(a, b, axes=2)"
   ]
  },
  {
   "cell_type": "code",
   "execution_count": 48,
   "metadata": {},
   "outputs": [
    {
     "data": {
      "text/plain": [
       "array(14)"
      ]
     },
     "execution_count": 48,
     "metadata": {},
     "output_type": "execute_result"
    }
   ],
   "source": [
    "np.tensordot(np.array([[1,1],[1,1]]),np.array([[2,3],[4,5]]),axes=2)"
   ]
  },
  {
   "cell_type": "code",
   "execution_count": 72,
   "metadata": {},
   "outputs": [],
   "source": [
    "n = 1\n",
    "c_i = 1\n",
    "h_i = 5\n",
    "w_i = 5\n",
    "x = np.arange(n * c_i * h_i * w_i).reshape(n, c_i, h_i, w_i).astype(np.float32)"
   ]
  },
  {
   "cell_type": "code",
   "execution_count": 73,
   "metadata": {},
   "outputs": [],
   "source": [
    "c_o = 1\n",
    "h_k = 2\n",
    "w_k = 2\n",
    "W =  np.full(c_o * c_i * h_k * w_k, 2).reshape(c_o, c_i, h_k, w_k).astype(np.float32)"
   ]
  },
  {
   "cell_type": "code",
   "execution_count": 74,
   "metadata": {},
   "outputs": [
    {
     "name": "stdout",
     "output_type": "stream",
     "text": [
      "(1, 1, 5, 5) (1, 1, 2, 2)\n"
     ]
    }
   ],
   "source": [
    "print(x.shape, W.shape)"
   ]
  },
  {
   "cell_type": "code",
   "execution_count": 85,
   "metadata": {},
   "outputs": [],
   "source": [
    "result = np.zeros((1,1,4,4), dtype=np.float32)\n",
    "\n",
    "for nn in range(n):\n",
    "    for cc_i in range(c_i):\n",
    "        for cc_o in range(c_o):\n",
    "            for h in range(h_i - h_k + 1):\n",
    "                 for w in range(w_i - w_k + 1):\n",
    "                    for k_h in range(h_k):\n",
    "                        for k_w in range(w_k):\n",
    "                            result[nn,cc_i*c_i + cc_o,h,w] += x[nn][cc_i][h+k_h][w+k_w] * W[nn][cc_o][k_h][k_w]"
   ]
  },
  {
   "cell_type": "code",
   "execution_count": 86,
   "metadata": {},
   "outputs": [
    {
     "data": {
      "text/plain": [
       "array([[[[ 24.,  32.,  40.,  48.],\n",
       "         [ 64.,  72.,  80.,  88.],\n",
       "         [104., 112., 120., 128.],\n",
       "         [144., 152., 160., 168.]]]], dtype=float32)"
      ]
     },
     "execution_count": 86,
     "metadata": {},
     "output_type": "execute_result"
    }
   ],
   "source": [
    "result"
   ]
  },
  {
   "cell_type": "code",
   "execution_count": 77,
   "metadata": {},
   "outputs": [],
   "source": [
    "from chainer.utils import conv"
   ]
  },
  {
   "cell_type": "code",
   "execution_count": 79,
   "metadata": {},
   "outputs": [],
   "source": [
    "col = conv.im2col_cpu(x, h_k, w_k, 1, 1, 0, 0)"
   ]
  },
  {
   "cell_type": "code",
   "execution_count": 80,
   "metadata": {},
   "outputs": [
    {
     "data": {
      "text/plain": [
       "((1, 1, 2, 2, 4, 4), (1, 1, 2, 2))"
      ]
     },
     "execution_count": 80,
     "metadata": {},
     "output_type": "execute_result"
    }
   ],
   "source": [
    "col.shape, W.shape"
   ]
  },
  {
   "cell_type": "code",
   "execution_count": 81,
   "metadata": {},
   "outputs": [
    {
     "data": {
      "text/plain": [
       "array([[[[[[ 0.,  1.,  2.,  3.],\n",
       "           [ 5.,  6.,  7.,  8.],\n",
       "           [10., 11., 12., 13.],\n",
       "           [15., 16., 17., 18.]],\n",
       "\n",
       "          [[ 1.,  2.,  3.,  4.],\n",
       "           [ 6.,  7.,  8.,  9.],\n",
       "           [11., 12., 13., 14.],\n",
       "           [16., 17., 18., 19.]]],\n",
       "\n",
       "\n",
       "         [[[ 5.,  6.,  7.,  8.],\n",
       "           [10., 11., 12., 13.],\n",
       "           [15., 16., 17., 18.],\n",
       "           [20., 21., 22., 23.]],\n",
       "\n",
       "          [[ 6.,  7.,  8.,  9.],\n",
       "           [11., 12., 13., 14.],\n",
       "           [16., 17., 18., 19.],\n",
       "           [21., 22., 23., 24.]]]]]], dtype=float32)"
      ]
     },
     "execution_count": 81,
     "metadata": {},
     "output_type": "execute_result"
    }
   ],
   "source": [
    "col"
   ]
  },
  {
   "cell_type": "code",
   "execution_count": 82,
   "metadata": {},
   "outputs": [
    {
     "data": {
      "text/plain": [
       "array([[[[2., 2.],\n",
       "         [2., 2.]]]], dtype=float32)"
      ]
     },
     "execution_count": 82,
     "metadata": {},
     "output_type": "execute_result"
    }
   ],
   "source": [
    "W"
   ]
  },
  {
   "cell_type": "code",
   "execution_count": 92,
   "metadata": {},
   "outputs": [
    {
     "data": {
      "text/plain": [
       "array([2., 2., 2., 2.], dtype=float32)"
      ]
     },
     "execution_count": 92,
     "metadata": {},
     "output_type": "execute_result"
    }
   ],
   "source": [
    "W.reshape(1*2*2)\n"
   ]
  },
  {
   "cell_type": "code",
   "execution_count": 96,
   "metadata": {},
   "outputs": [
    {
     "data": {
      "text/plain": [
       "array([[[[[[10., 10.]],\n",
       "\n",
       "          [[14., 14.]],\n",
       "\n",
       "          [[18., 18.]],\n",
       "\n",
       "          [[22., 22.]]],\n",
       "\n",
       "\n",
       "         [[[30., 30.]],\n",
       "\n",
       "          [[34., 34.]],\n",
       "\n",
       "          [[38., 38.]],\n",
       "\n",
       "          [[42., 42.]]],\n",
       "\n",
       "\n",
       "         [[[50., 50.]],\n",
       "\n",
       "          [[54., 54.]],\n",
       "\n",
       "          [[58., 58.]],\n",
       "\n",
       "          [[62., 62.]]],\n",
       "\n",
       "\n",
       "         [[[70., 70.]],\n",
       "\n",
       "          [[74., 74.]],\n",
       "\n",
       "          [[78., 78.]],\n",
       "\n",
       "          [[82., 82.]]]],\n",
       "\n",
       "\n",
       "\n",
       "        [[[[14., 14.]],\n",
       "\n",
       "          [[18., 18.]],\n",
       "\n",
       "          [[22., 22.]],\n",
       "\n",
       "          [[26., 26.]]],\n",
       "\n",
       "\n",
       "         [[[34., 34.]],\n",
       "\n",
       "          [[38., 38.]],\n",
       "\n",
       "          [[42., 42.]],\n",
       "\n",
       "          [[46., 46.]]],\n",
       "\n",
       "\n",
       "         [[[54., 54.]],\n",
       "\n",
       "          [[58., 58.]],\n",
       "\n",
       "          [[62., 62.]],\n",
       "\n",
       "          [[66., 66.]]],\n",
       "\n",
       "\n",
       "         [[[74., 74.]],\n",
       "\n",
       "          [[78., 78.]],\n",
       "\n",
       "          [[82., 82.]],\n",
       "\n",
       "          [[86., 86.]]]]]], dtype=float32)"
      ]
     },
     "execution_count": 96,
     "metadata": {},
     "output_type": "execute_result"
    }
   ],
   "source": [
    "np.tensordot(col, W,  axes=((1,2), (1,2)) )"
   ]
  },
  {
   "cell_type": "code",
   "execution_count": 95,
   "metadata": {},
   "outputs": [
    {
     "data": {
      "text/plain": [
       "array([[[[ 24.],\n",
       "         [ 32.],\n",
       "         [ 40.],\n",
       "         [ 48.]],\n",
       "\n",
       "        [[ 64.],\n",
       "         [ 72.],\n",
       "         [ 80.],\n",
       "         [ 88.]],\n",
       "\n",
       "        [[104.],\n",
       "         [112.],\n",
       "         [120.],\n",
       "         [128.]],\n",
       "\n",
       "        [[144.],\n",
       "         [152.],\n",
       "         [160.],\n",
       "         [168.]]]], dtype=float32)"
      ]
     },
     "execution_count": 95,
     "metadata": {},
     "output_type": "execute_result"
    }
   ],
   "source": [
    "np.tensordot(col, W,  axes=((1,2,3), (1,2,3)) )"
   ]
  },
  {
   "cell_type": "code",
   "execution_count": 61,
   "metadata": {},
   "outputs": [
    {
     "data": {
      "text/plain": [
       "array([[[[[[[[ 2.,  2.]]],\n",
       "\n",
       "\n",
       "           [[[ 6.,  6.]]]],\n",
       "\n",
       "\n",
       "\n",
       "          [[[[14., 14.]]],\n",
       "\n",
       "\n",
       "           [[[18., 18.]]]]],\n",
       "\n",
       "\n",
       "\n",
       "\n",
       "         [[[[[14., 14.]]],\n",
       "\n",
       "\n",
       "           [[[18., 18.]]]],\n",
       "\n",
       "\n",
       "\n",
       "          [[[[26., 26.]]],\n",
       "\n",
       "\n",
       "           [[[30., 30.]]]]]]]], dtype=float32)"
      ]
     },
     "execution_count": 61,
     "metadata": {},
     "output_type": "execute_result"
    }
   ],
   "source": [
    "np.tensordot(col, W,  axes=((3), (3)) )"
   ]
  },
  {
   "cell_type": "code",
   "execution_count": 62,
   "metadata": {},
   "outputs": [
    {
     "data": {
      "text/plain": [
       "array([[[[[[ 6.,  6.]],\n",
       "\n",
       "          [[10., 10.]]],\n",
       "\n",
       "\n",
       "         [[[18., 18.]],\n",
       "\n",
       "          [[22., 22.]]]],\n",
       "\n",
       "\n",
       "\n",
       "        [[[[10., 10.]],\n",
       "\n",
       "          [[14., 14.]]],\n",
       "\n",
       "\n",
       "         [[[22., 22.]],\n",
       "\n",
       "          [[26., 26.]]]]]], dtype=float32)"
      ]
     },
     "execution_count": 62,
     "metadata": {},
     "output_type": "execute_result"
    }
   ],
   "source": [
    "np.tensordot(col, W,  axes=((1,2), (1,2)) )"
   ]
  },
  {
   "cell_type": "code",
   "execution_count": 71,
   "metadata": {},
   "outputs": [
    {
     "data": {
      "text/plain": [
       "array([[[[16.],\n",
       "         [24.]],\n",
       "\n",
       "        [[40.],\n",
       "         [48.]]]], dtype=float32)"
      ]
     },
     "execution_count": 71,
     "metadata": {},
     "output_type": "execute_result"
    }
   ],
   "source": [
    "np.tensordot(col, W,  axes=((1,2,3),(1,2,3)))"
   ]
  },
  {
   "cell_type": "code",
   "execution_count": null,
   "metadata": {},
   "outputs": [],
   "source": []
  },
  {
   "cell_type": "code",
   "execution_count": null,
   "metadata": {},
   "outputs": [],
   "source": []
  },
  {
   "cell_type": "code",
   "execution_count": null,
   "metadata": {},
   "outputs": [],
   "source": []
  },
  {
   "cell_type": "code",
   "execution_count": null,
   "metadata": {},
   "outputs": [],
   "source": []
  },
  {
   "cell_type": "code",
   "execution_count": null,
   "metadata": {},
   "outputs": [],
   "source": []
  },
  {
   "cell_type": "code",
   "execution_count": null,
   "metadata": {},
   "outputs": [],
   "source": []
  },
  {
   "cell_type": "code",
   "execution_count": null,
   "metadata": {},
   "outputs": [],
   "source": []
  },
  {
   "cell_type": "code",
   "execution_count": null,
   "metadata": {},
   "outputs": [],
   "source": []
  },
  {
   "cell_type": "code",
   "execution_count": null,
   "metadata": {},
   "outputs": [],
   "source": []
  },
  {
   "cell_type": "code",
   "execution_count": null,
   "metadata": {},
   "outputs": [],
   "source": []
  }
 ],
 "metadata": {
  "kernelspec": {
   "display_name": "Python 3",
   "language": "python",
   "name": "python3"
  },
  "language_info": {
   "codemirror_mode": {
    "name": "ipython",
    "version": 3
   },
   "file_extension": ".py",
   "mimetype": "text/x-python",
   "name": "python",
   "nbconvert_exporter": "python",
   "pygments_lexer": "ipython3",
   "version": "3.7.2"
  }
 },
 "nbformat": 4,
 "nbformat_minor": 2
}
